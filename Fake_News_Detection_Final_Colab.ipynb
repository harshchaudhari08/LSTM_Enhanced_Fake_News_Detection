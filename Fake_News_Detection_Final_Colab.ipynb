{
  "cells": [
    {
      "cell_type": "code",
      "execution_count": 1,
      "id": "fbee5c43",
      "metadata": {
        "id": "fbee5c43"
      },
      "outputs": [],
      "source": [
        "\n",
        "import pandas as pd\n",
        "import numpy as np\n",
        "import matplotlib.pyplot as plt\n",
        "\n",
        "# NLP libraries to clean the text data\n",
        "from nltk.corpus import stopwords\n",
        "from nltk.stem.porter import PorterStemmer\n",
        "import re\n",
        "\n",
        "# Vectorization technique TF-IDF\n",
        "from sklearn.feature_extraction.text import TfidfVectorizer\n",
        "\n",
        "# For Splitting the dataset\n",
        "from sklearn.model_selection import train_test_split\n",
        "\n",
        "# Model libraries\n",
        "from sklearn.linear_model import LogisticRegression\n",
        "from sklearn.svm import SVC\n",
        "from sklearn.ensemble import RandomForestClassifier\n",
        "\n",
        "#Accuracy measuring library\n",
        "from sklearn.metrics import accuracy_score"
      ]
    },
    {
      "cell_type": "code",
      "execution_count": 8,
      "id": "c1555386",
      "metadata": {
        "id": "c1555386"
      },
      "outputs": [],
      "source": [
        "data = pd.read_csv('data.csv')"
      ]
    },
    {
      "cell_type": "code",
      "execution_count": 9,
      "id": "c0549281",
      "metadata": {
        "colab": {
          "base_uri": "https://localhost:8080/"
        },
        "id": "c0549281",
        "outputId": "497c690a-b92b-4e7c-8807-adccae16c1f2"
      },
      "outputs": [
        {
          "output_type": "execute_result",
          "data": {
            "text/plain": [
              "(4009, 4)"
            ]
          },
          "metadata": {},
          "execution_count": 9
        }
      ],
      "source": [
        "data.shape #Returns the number of rows and columns present in the dataset"
      ]
    },
    {
      "cell_type": "code",
      "execution_count": 10,
      "id": "61376998",
      "metadata": {
        "colab": {
          "base_uri": "https://localhost:8080/",
          "height": 293
        },
        "id": "61376998",
        "outputId": "f52fb49d-2c46-474d-ef32-0dfb16aa7ed7"
      },
      "outputs": [
        {
          "output_type": "execute_result",
          "data": {
            "text/plain": [
              "                                                URLs  \\\n",
              "0  http://www.bbc.com/news/world-us-canada-414191...   \n",
              "1  https://www.reuters.com/article/us-filmfestiva...   \n",
              "2  https://www.nytimes.com/2017/10/09/us/politics...   \n",
              "3  https://www.reuters.com/article/us-mexico-oil-...   \n",
              "4  http://www.cnn.com/videos/cnnmoney/2017/10/08/...   \n",
              "\n",
              "                                            Headline  \\\n",
              "0         Four ways Bob Corker skewered Donald Trump   \n",
              "1  Linklater's war veteran comedy speaks to moder...   \n",
              "2  Trump’s Fight With Corker Jeopardizes His Legi...   \n",
              "3  Egypt's Cheiron wins tie-up with Pemex for Mex...   \n",
              "4        Jason Aldean opens 'SNL' with Vegas tribute   \n",
              "\n",
              "                                                Body  Label  \n",
              "0  Image copyright Getty Images\\nOn Sunday mornin...      1  \n",
              "1  LONDON (Reuters) - “Last Flag Flying”, a comed...      1  \n",
              "2  The feud broke into public view last week when...      1  \n",
              "3  MEXICO CITY (Reuters) - Egypt’s Cheiron Holdin...      1  \n",
              "4  Country singer Jason Aldean, who was performin...      1  "
            ],
            "text/html": [
              "\n",
              "  <div id=\"df-db885a82-79a5-4992-93c1-6264f1fa8ea1\" class=\"colab-df-container\">\n",
              "    <div>\n",
              "<style scoped>\n",
              "    .dataframe tbody tr th:only-of-type {\n",
              "        vertical-align: middle;\n",
              "    }\n",
              "\n",
              "    .dataframe tbody tr th {\n",
              "        vertical-align: top;\n",
              "    }\n",
              "\n",
              "    .dataframe thead th {\n",
              "        text-align: right;\n",
              "    }\n",
              "</style>\n",
              "<table border=\"1\" class=\"dataframe\">\n",
              "  <thead>\n",
              "    <tr style=\"text-align: right;\">\n",
              "      <th></th>\n",
              "      <th>URLs</th>\n",
              "      <th>Headline</th>\n",
              "      <th>Body</th>\n",
              "      <th>Label</th>\n",
              "    </tr>\n",
              "  </thead>\n",
              "  <tbody>\n",
              "    <tr>\n",
              "      <th>0</th>\n",
              "      <td>http://www.bbc.com/news/world-us-canada-414191...</td>\n",
              "      <td>Four ways Bob Corker skewered Donald Trump</td>\n",
              "      <td>Image copyright Getty Images\\nOn Sunday mornin...</td>\n",
              "      <td>1</td>\n",
              "    </tr>\n",
              "    <tr>\n",
              "      <th>1</th>\n",
              "      <td>https://www.reuters.com/article/us-filmfestiva...</td>\n",
              "      <td>Linklater's war veteran comedy speaks to moder...</td>\n",
              "      <td>LONDON (Reuters) - “Last Flag Flying”, a comed...</td>\n",
              "      <td>1</td>\n",
              "    </tr>\n",
              "    <tr>\n",
              "      <th>2</th>\n",
              "      <td>https://www.nytimes.com/2017/10/09/us/politics...</td>\n",
              "      <td>Trump’s Fight With Corker Jeopardizes His Legi...</td>\n",
              "      <td>The feud broke into public view last week when...</td>\n",
              "      <td>1</td>\n",
              "    </tr>\n",
              "    <tr>\n",
              "      <th>3</th>\n",
              "      <td>https://www.reuters.com/article/us-mexico-oil-...</td>\n",
              "      <td>Egypt's Cheiron wins tie-up with Pemex for Mex...</td>\n",
              "      <td>MEXICO CITY (Reuters) - Egypt’s Cheiron Holdin...</td>\n",
              "      <td>1</td>\n",
              "    </tr>\n",
              "    <tr>\n",
              "      <th>4</th>\n",
              "      <td>http://www.cnn.com/videos/cnnmoney/2017/10/08/...</td>\n",
              "      <td>Jason Aldean opens 'SNL' with Vegas tribute</td>\n",
              "      <td>Country singer Jason Aldean, who was performin...</td>\n",
              "      <td>1</td>\n",
              "    </tr>\n",
              "  </tbody>\n",
              "</table>\n",
              "</div>\n",
              "    <div class=\"colab-df-buttons\">\n",
              "\n",
              "  <div class=\"colab-df-container\">\n",
              "    <button class=\"colab-df-convert\" onclick=\"convertToInteractive('df-db885a82-79a5-4992-93c1-6264f1fa8ea1')\"\n",
              "            title=\"Convert this dataframe to an interactive table.\"\n",
              "            style=\"display:none;\">\n",
              "\n",
              "  <svg xmlns=\"http://www.w3.org/2000/svg\" height=\"24px\" viewBox=\"0 -960 960 960\">\n",
              "    <path d=\"M120-120v-720h720v720H120Zm60-500h600v-160H180v160Zm220 220h160v-160H400v160Zm0 220h160v-160H400v160ZM180-400h160v-160H180v160Zm440 0h160v-160H620v160ZM180-180h160v-160H180v160Zm440 0h160v-160H620v160Z\"/>\n",
              "  </svg>\n",
              "    </button>\n",
              "\n",
              "  <style>\n",
              "    .colab-df-container {\n",
              "      display:flex;\n",
              "      gap: 12px;\n",
              "    }\n",
              "\n",
              "    .colab-df-convert {\n",
              "      background-color: #E8F0FE;\n",
              "      border: none;\n",
              "      border-radius: 50%;\n",
              "      cursor: pointer;\n",
              "      display: none;\n",
              "      fill: #1967D2;\n",
              "      height: 32px;\n",
              "      padding: 0 0 0 0;\n",
              "      width: 32px;\n",
              "    }\n",
              "\n",
              "    .colab-df-convert:hover {\n",
              "      background-color: #E2EBFA;\n",
              "      box-shadow: 0px 1px 2px rgba(60, 64, 67, 0.3), 0px 1px 3px 1px rgba(60, 64, 67, 0.15);\n",
              "      fill: #174EA6;\n",
              "    }\n",
              "\n",
              "    .colab-df-buttons div {\n",
              "      margin-bottom: 4px;\n",
              "    }\n",
              "\n",
              "    [theme=dark] .colab-df-convert {\n",
              "      background-color: #3B4455;\n",
              "      fill: #D2E3FC;\n",
              "    }\n",
              "\n",
              "    [theme=dark] .colab-df-convert:hover {\n",
              "      background-color: #434B5C;\n",
              "      box-shadow: 0px 1px 3px 1px rgba(0, 0, 0, 0.15);\n",
              "      filter: drop-shadow(0px 1px 2px rgba(0, 0, 0, 0.3));\n",
              "      fill: #FFFFFF;\n",
              "    }\n",
              "  </style>\n",
              "\n",
              "    <script>\n",
              "      const buttonEl =\n",
              "        document.querySelector('#df-db885a82-79a5-4992-93c1-6264f1fa8ea1 button.colab-df-convert');\n",
              "      buttonEl.style.display =\n",
              "        google.colab.kernel.accessAllowed ? 'block' : 'none';\n",
              "\n",
              "      async function convertToInteractive(key) {\n",
              "        const element = document.querySelector('#df-db885a82-79a5-4992-93c1-6264f1fa8ea1');\n",
              "        const dataTable =\n",
              "          await google.colab.kernel.invokeFunction('convertToInteractive',\n",
              "                                                    [key], {});\n",
              "        if (!dataTable) return;\n",
              "\n",
              "        const docLinkHtml = 'Like what you see? Visit the ' +\n",
              "          '<a target=\"_blank\" href=https://colab.research.google.com/notebooks/data_table.ipynb>data table notebook</a>'\n",
              "          + ' to learn more about interactive tables.';\n",
              "        element.innerHTML = '';\n",
              "        dataTable['output_type'] = 'display_data';\n",
              "        await google.colab.output.renderOutput(dataTable, element);\n",
              "        const docLink = document.createElement('div');\n",
              "        docLink.innerHTML = docLinkHtml;\n",
              "        element.appendChild(docLink);\n",
              "      }\n",
              "    </script>\n",
              "  </div>\n",
              "\n",
              "\n",
              "<div id=\"df-7a86e6c5-9f41-4db5-be8c-ad4a5f95304c\">\n",
              "  <button class=\"colab-df-quickchart\" onclick=\"quickchart('df-7a86e6c5-9f41-4db5-be8c-ad4a5f95304c')\"\n",
              "            title=\"Suggest charts\"\n",
              "            style=\"display:none;\">\n",
              "\n",
              "<svg xmlns=\"http://www.w3.org/2000/svg\" height=\"24px\"viewBox=\"0 0 24 24\"\n",
              "     width=\"24px\">\n",
              "    <g>\n",
              "        <path d=\"M19 3H5c-1.1 0-2 .9-2 2v14c0 1.1.9 2 2 2h14c1.1 0 2-.9 2-2V5c0-1.1-.9-2-2-2zM9 17H7v-7h2v7zm4 0h-2V7h2v10zm4 0h-2v-4h2v4z\"/>\n",
              "    </g>\n",
              "</svg>\n",
              "  </button>\n",
              "\n",
              "<style>\n",
              "  .colab-df-quickchart {\n",
              "      --bg-color: #E8F0FE;\n",
              "      --fill-color: #1967D2;\n",
              "      --hover-bg-color: #E2EBFA;\n",
              "      --hover-fill-color: #174EA6;\n",
              "      --disabled-fill-color: #AAA;\n",
              "      --disabled-bg-color: #DDD;\n",
              "  }\n",
              "\n",
              "  [theme=dark] .colab-df-quickchart {\n",
              "      --bg-color: #3B4455;\n",
              "      --fill-color: #D2E3FC;\n",
              "      --hover-bg-color: #434B5C;\n",
              "      --hover-fill-color: #FFFFFF;\n",
              "      --disabled-bg-color: #3B4455;\n",
              "      --disabled-fill-color: #666;\n",
              "  }\n",
              "\n",
              "  .colab-df-quickchart {\n",
              "    background-color: var(--bg-color);\n",
              "    border: none;\n",
              "    border-radius: 50%;\n",
              "    cursor: pointer;\n",
              "    display: none;\n",
              "    fill: var(--fill-color);\n",
              "    height: 32px;\n",
              "    padding: 0;\n",
              "    width: 32px;\n",
              "  }\n",
              "\n",
              "  .colab-df-quickchart:hover {\n",
              "    background-color: var(--hover-bg-color);\n",
              "    box-shadow: 0 1px 2px rgba(60, 64, 67, 0.3), 0 1px 3px 1px rgba(60, 64, 67, 0.15);\n",
              "    fill: var(--button-hover-fill-color);\n",
              "  }\n",
              "\n",
              "  .colab-df-quickchart-complete:disabled,\n",
              "  .colab-df-quickchart-complete:disabled:hover {\n",
              "    background-color: var(--disabled-bg-color);\n",
              "    fill: var(--disabled-fill-color);\n",
              "    box-shadow: none;\n",
              "  }\n",
              "\n",
              "  .colab-df-spinner {\n",
              "    border: 2px solid var(--fill-color);\n",
              "    border-color: transparent;\n",
              "    border-bottom-color: var(--fill-color);\n",
              "    animation:\n",
              "      spin 1s steps(1) infinite;\n",
              "  }\n",
              "\n",
              "  @keyframes spin {\n",
              "    0% {\n",
              "      border-color: transparent;\n",
              "      border-bottom-color: var(--fill-color);\n",
              "      border-left-color: var(--fill-color);\n",
              "    }\n",
              "    20% {\n",
              "      border-color: transparent;\n",
              "      border-left-color: var(--fill-color);\n",
              "      border-top-color: var(--fill-color);\n",
              "    }\n",
              "    30% {\n",
              "      border-color: transparent;\n",
              "      border-left-color: var(--fill-color);\n",
              "      border-top-color: var(--fill-color);\n",
              "      border-right-color: var(--fill-color);\n",
              "    }\n",
              "    40% {\n",
              "      border-color: transparent;\n",
              "      border-right-color: var(--fill-color);\n",
              "      border-top-color: var(--fill-color);\n",
              "    }\n",
              "    60% {\n",
              "      border-color: transparent;\n",
              "      border-right-color: var(--fill-color);\n",
              "    }\n",
              "    80% {\n",
              "      border-color: transparent;\n",
              "      border-right-color: var(--fill-color);\n",
              "      border-bottom-color: var(--fill-color);\n",
              "    }\n",
              "    90% {\n",
              "      border-color: transparent;\n",
              "      border-bottom-color: var(--fill-color);\n",
              "    }\n",
              "  }\n",
              "</style>\n",
              "\n",
              "  <script>\n",
              "    async function quickchart(key) {\n",
              "      const quickchartButtonEl =\n",
              "        document.querySelector('#' + key + ' button');\n",
              "      quickchartButtonEl.disabled = true;  // To prevent multiple clicks.\n",
              "      quickchartButtonEl.classList.add('colab-df-spinner');\n",
              "      try {\n",
              "        const charts = await google.colab.kernel.invokeFunction(\n",
              "            'suggestCharts', [key], {});\n",
              "      } catch (error) {\n",
              "        console.error('Error during call to suggestCharts:', error);\n",
              "      }\n",
              "      quickchartButtonEl.classList.remove('colab-df-spinner');\n",
              "      quickchartButtonEl.classList.add('colab-df-quickchart-complete');\n",
              "    }\n",
              "    (() => {\n",
              "      let quickchartButtonEl =\n",
              "        document.querySelector('#df-7a86e6c5-9f41-4db5-be8c-ad4a5f95304c button');\n",
              "      quickchartButtonEl.style.display =\n",
              "        google.colab.kernel.accessAllowed ? 'block' : 'none';\n",
              "    })();\n",
              "  </script>\n",
              "</div>\n",
              "    </div>\n",
              "  </div>\n"
            ]
          },
          "metadata": {},
          "execution_count": 10
        }
      ],
      "source": [
        "data.head()  # Returns the first 5 rows of the dataset"
      ]
    },
    {
      "cell_type": "code",
      "execution_count": 11,
      "id": "294f5cb0",
      "metadata": {
        "colab": {
          "base_uri": "https://localhost:8080/"
        },
        "id": "294f5cb0",
        "outputId": "23728df8-4e3c-42f8-f7e6-5e852766d70a"
      },
      "outputs": [
        {
          "output_type": "execute_result",
          "data": {
            "text/plain": [
              "Index(['URLs', 'Headline', 'Body', 'Label'], dtype='object')"
            ]
          },
          "metadata": {},
          "execution_count": 11
        }
      ],
      "source": [
        "data.columns # Returns the column headings"
      ]
    },
    {
      "cell_type": "code",
      "execution_count": 12,
      "id": "6a9b2cea",
      "metadata": {
        "colab": {
          "base_uri": "https://localhost:8080/"
        },
        "id": "6a9b2cea",
        "outputId": "3a4b9496-293e-4f2d-c77d-eeef258c56de"
      },
      "outputs": [
        {
          "output_type": "execute_result",
          "data": {
            "text/plain": [
              "URLs         0\n",
              "Headline     0\n",
              "Body        21\n",
              "Label        0\n",
              "dtype: int64"
            ]
          },
          "metadata": {},
          "execution_count": 12
        }
      ],
      "source": [
        "data.isnull().sum() #To check the null values in the dataset, if any"
      ]
    },
    {
      "cell_type": "code",
      "execution_count": 13,
      "id": "bb34a386",
      "metadata": {
        "id": "bb34a386"
      },
      "outputs": [],
      "source": [
        "df = data.copy() #Creating a copy of my data, I will be working on this Dataframe"
      ]
    },
    {
      "cell_type": "code",
      "execution_count": 14,
      "id": "b8c607bb",
      "metadata": {
        "id": "b8c607bb"
      },
      "outputs": [],
      "source": [
        "df['Body'] = df['Body'].fillna('')   # As Body is empty, just filled with an empty space"
      ]
    },
    {
      "cell_type": "code",
      "execution_count": 15,
      "id": "f4a61c50",
      "metadata": {
        "colab": {
          "base_uri": "https://localhost:8080/"
        },
        "id": "f4a61c50",
        "outputId": "0e237c7e-5235-4f77-f656-dabc4251266f"
      },
      "outputs": [
        {
          "output_type": "execute_result",
          "data": {
            "text/plain": [
              "URLs        0\n",
              "Headline    0\n",
              "Body        0\n",
              "Label       0\n",
              "dtype: int64"
            ]
          },
          "metadata": {},
          "execution_count": 15
        }
      ],
      "source": [
        "df.isnull().sum()  # No null values found"
      ]
    },
    {
      "cell_type": "code",
      "execution_count": 16,
      "id": "2e7e1ec3",
      "metadata": {
        "id": "2e7e1ec3"
      },
      "outputs": [],
      "source": [
        "df['News'] = df['Headline']+df['Body']"
      ]
    },
    {
      "cell_type": "code",
      "execution_count": 17,
      "id": "ee6c7112",
      "metadata": {
        "colab": {
          "base_uri": "https://localhost:8080/",
          "height": 431
        },
        "id": "ee6c7112",
        "outputId": "31574616-22d2-4f41-9679-ae9176a14fa8"
      },
      "outputs": [
        {
          "output_type": "execute_result",
          "data": {
            "text/plain": [
              "                                                URLs  \\\n",
              "0  http://www.bbc.com/news/world-us-canada-414191...   \n",
              "1  https://www.reuters.com/article/us-filmfestiva...   \n",
              "2  https://www.nytimes.com/2017/10/09/us/politics...   \n",
              "3  https://www.reuters.com/article/us-mexico-oil-...   \n",
              "4  http://www.cnn.com/videos/cnnmoney/2017/10/08/...   \n",
              "\n",
              "                                            Headline  \\\n",
              "0         Four ways Bob Corker skewered Donald Trump   \n",
              "1  Linklater's war veteran comedy speaks to moder...   \n",
              "2  Trump’s Fight With Corker Jeopardizes His Legi...   \n",
              "3  Egypt's Cheiron wins tie-up with Pemex for Mex...   \n",
              "4        Jason Aldean opens 'SNL' with Vegas tribute   \n",
              "\n",
              "                                                Body  Label  \\\n",
              "0  Image copyright Getty Images\\nOn Sunday mornin...      1   \n",
              "1  LONDON (Reuters) - “Last Flag Flying”, a comed...      1   \n",
              "2  The feud broke into public view last week when...      1   \n",
              "3  MEXICO CITY (Reuters) - Egypt’s Cheiron Holdin...      1   \n",
              "4  Country singer Jason Aldean, who was performin...      1   \n",
              "\n",
              "                                                News  \n",
              "0  Four ways Bob Corker skewered Donald TrumpImag...  \n",
              "1  Linklater's war veteran comedy speaks to moder...  \n",
              "2  Trump’s Fight With Corker Jeopardizes His Legi...  \n",
              "3  Egypt's Cheiron wins tie-up with Pemex for Mex...  \n",
              "4  Jason Aldean opens 'SNL' with Vegas tributeCou...  "
            ],
            "text/html": [
              "\n",
              "  <div id=\"df-4395b1b3-5f34-4eb4-afe1-4d391f913040\" class=\"colab-df-container\">\n",
              "    <div>\n",
              "<style scoped>\n",
              "    .dataframe tbody tr th:only-of-type {\n",
              "        vertical-align: middle;\n",
              "    }\n",
              "\n",
              "    .dataframe tbody tr th {\n",
              "        vertical-align: top;\n",
              "    }\n",
              "\n",
              "    .dataframe thead th {\n",
              "        text-align: right;\n",
              "    }\n",
              "</style>\n",
              "<table border=\"1\" class=\"dataframe\">\n",
              "  <thead>\n",
              "    <tr style=\"text-align: right;\">\n",
              "      <th></th>\n",
              "      <th>URLs</th>\n",
              "      <th>Headline</th>\n",
              "      <th>Body</th>\n",
              "      <th>Label</th>\n",
              "      <th>News</th>\n",
              "    </tr>\n",
              "  </thead>\n",
              "  <tbody>\n",
              "    <tr>\n",
              "      <th>0</th>\n",
              "      <td>http://www.bbc.com/news/world-us-canada-414191...</td>\n",
              "      <td>Four ways Bob Corker skewered Donald Trump</td>\n",
              "      <td>Image copyright Getty Images\\nOn Sunday mornin...</td>\n",
              "      <td>1</td>\n",
              "      <td>Four ways Bob Corker skewered Donald TrumpImag...</td>\n",
              "    </tr>\n",
              "    <tr>\n",
              "      <th>1</th>\n",
              "      <td>https://www.reuters.com/article/us-filmfestiva...</td>\n",
              "      <td>Linklater's war veteran comedy speaks to moder...</td>\n",
              "      <td>LONDON (Reuters) - “Last Flag Flying”, a comed...</td>\n",
              "      <td>1</td>\n",
              "      <td>Linklater's war veteran comedy speaks to moder...</td>\n",
              "    </tr>\n",
              "    <tr>\n",
              "      <th>2</th>\n",
              "      <td>https://www.nytimes.com/2017/10/09/us/politics...</td>\n",
              "      <td>Trump’s Fight With Corker Jeopardizes His Legi...</td>\n",
              "      <td>The feud broke into public view last week when...</td>\n",
              "      <td>1</td>\n",
              "      <td>Trump’s Fight With Corker Jeopardizes His Legi...</td>\n",
              "    </tr>\n",
              "    <tr>\n",
              "      <th>3</th>\n",
              "      <td>https://www.reuters.com/article/us-mexico-oil-...</td>\n",
              "      <td>Egypt's Cheiron wins tie-up with Pemex for Mex...</td>\n",
              "      <td>MEXICO CITY (Reuters) - Egypt’s Cheiron Holdin...</td>\n",
              "      <td>1</td>\n",
              "      <td>Egypt's Cheiron wins tie-up with Pemex for Mex...</td>\n",
              "    </tr>\n",
              "    <tr>\n",
              "      <th>4</th>\n",
              "      <td>http://www.cnn.com/videos/cnnmoney/2017/10/08/...</td>\n",
              "      <td>Jason Aldean opens 'SNL' with Vegas tribute</td>\n",
              "      <td>Country singer Jason Aldean, who was performin...</td>\n",
              "      <td>1</td>\n",
              "      <td>Jason Aldean opens 'SNL' with Vegas tributeCou...</td>\n",
              "    </tr>\n",
              "  </tbody>\n",
              "</table>\n",
              "</div>\n",
              "    <div class=\"colab-df-buttons\">\n",
              "\n",
              "  <div class=\"colab-df-container\">\n",
              "    <button class=\"colab-df-convert\" onclick=\"convertToInteractive('df-4395b1b3-5f34-4eb4-afe1-4d391f913040')\"\n",
              "            title=\"Convert this dataframe to an interactive table.\"\n",
              "            style=\"display:none;\">\n",
              "\n",
              "  <svg xmlns=\"http://www.w3.org/2000/svg\" height=\"24px\" viewBox=\"0 -960 960 960\">\n",
              "    <path d=\"M120-120v-720h720v720H120Zm60-500h600v-160H180v160Zm220 220h160v-160H400v160Zm0 220h160v-160H400v160ZM180-400h160v-160H180v160Zm440 0h160v-160H620v160ZM180-180h160v-160H180v160Zm440 0h160v-160H620v160Z\"/>\n",
              "  </svg>\n",
              "    </button>\n",
              "\n",
              "  <style>\n",
              "    .colab-df-container {\n",
              "      display:flex;\n",
              "      gap: 12px;\n",
              "    }\n",
              "\n",
              "    .colab-df-convert {\n",
              "      background-color: #E8F0FE;\n",
              "      border: none;\n",
              "      border-radius: 50%;\n",
              "      cursor: pointer;\n",
              "      display: none;\n",
              "      fill: #1967D2;\n",
              "      height: 32px;\n",
              "      padding: 0 0 0 0;\n",
              "      width: 32px;\n",
              "    }\n",
              "\n",
              "    .colab-df-convert:hover {\n",
              "      background-color: #E2EBFA;\n",
              "      box-shadow: 0px 1px 2px rgba(60, 64, 67, 0.3), 0px 1px 3px 1px rgba(60, 64, 67, 0.15);\n",
              "      fill: #174EA6;\n",
              "    }\n",
              "\n",
              "    .colab-df-buttons div {\n",
              "      margin-bottom: 4px;\n",
              "    }\n",
              "\n",
              "    [theme=dark] .colab-df-convert {\n",
              "      background-color: #3B4455;\n",
              "      fill: #D2E3FC;\n",
              "    }\n",
              "\n",
              "    [theme=dark] .colab-df-convert:hover {\n",
              "      background-color: #434B5C;\n",
              "      box-shadow: 0px 1px 3px 1px rgba(0, 0, 0, 0.15);\n",
              "      filter: drop-shadow(0px 1px 2px rgba(0, 0, 0, 0.3));\n",
              "      fill: #FFFFFF;\n",
              "    }\n",
              "  </style>\n",
              "\n",
              "    <script>\n",
              "      const buttonEl =\n",
              "        document.querySelector('#df-4395b1b3-5f34-4eb4-afe1-4d391f913040 button.colab-df-convert');\n",
              "      buttonEl.style.display =\n",
              "        google.colab.kernel.accessAllowed ? 'block' : 'none';\n",
              "\n",
              "      async function convertToInteractive(key) {\n",
              "        const element = document.querySelector('#df-4395b1b3-5f34-4eb4-afe1-4d391f913040');\n",
              "        const dataTable =\n",
              "          await google.colab.kernel.invokeFunction('convertToInteractive',\n",
              "                                                    [key], {});\n",
              "        if (!dataTable) return;\n",
              "\n",
              "        const docLinkHtml = 'Like what you see? Visit the ' +\n",
              "          '<a target=\"_blank\" href=https://colab.research.google.com/notebooks/data_table.ipynb>data table notebook</a>'\n",
              "          + ' to learn more about interactive tables.';\n",
              "        element.innerHTML = '';\n",
              "        dataTable['output_type'] = 'display_data';\n",
              "        await google.colab.output.renderOutput(dataTable, element);\n",
              "        const docLink = document.createElement('div');\n",
              "        docLink.innerHTML = docLinkHtml;\n",
              "        element.appendChild(docLink);\n",
              "      }\n",
              "    </script>\n",
              "  </div>\n",
              "\n",
              "\n",
              "<div id=\"df-19ae7b58-5bd4-49a0-b09a-f43fd6080d8b\">\n",
              "  <button class=\"colab-df-quickchart\" onclick=\"quickchart('df-19ae7b58-5bd4-49a0-b09a-f43fd6080d8b')\"\n",
              "            title=\"Suggest charts\"\n",
              "            style=\"display:none;\">\n",
              "\n",
              "<svg xmlns=\"http://www.w3.org/2000/svg\" height=\"24px\"viewBox=\"0 0 24 24\"\n",
              "     width=\"24px\">\n",
              "    <g>\n",
              "        <path d=\"M19 3H5c-1.1 0-2 .9-2 2v14c0 1.1.9 2 2 2h14c1.1 0 2-.9 2-2V5c0-1.1-.9-2-2-2zM9 17H7v-7h2v7zm4 0h-2V7h2v10zm4 0h-2v-4h2v4z\"/>\n",
              "    </g>\n",
              "</svg>\n",
              "  </button>\n",
              "\n",
              "<style>\n",
              "  .colab-df-quickchart {\n",
              "      --bg-color: #E8F0FE;\n",
              "      --fill-color: #1967D2;\n",
              "      --hover-bg-color: #E2EBFA;\n",
              "      --hover-fill-color: #174EA6;\n",
              "      --disabled-fill-color: #AAA;\n",
              "      --disabled-bg-color: #DDD;\n",
              "  }\n",
              "\n",
              "  [theme=dark] .colab-df-quickchart {\n",
              "      --bg-color: #3B4455;\n",
              "      --fill-color: #D2E3FC;\n",
              "      --hover-bg-color: #434B5C;\n",
              "      --hover-fill-color: #FFFFFF;\n",
              "      --disabled-bg-color: #3B4455;\n",
              "      --disabled-fill-color: #666;\n",
              "  }\n",
              "\n",
              "  .colab-df-quickchart {\n",
              "    background-color: var(--bg-color);\n",
              "    border: none;\n",
              "    border-radius: 50%;\n",
              "    cursor: pointer;\n",
              "    display: none;\n",
              "    fill: var(--fill-color);\n",
              "    height: 32px;\n",
              "    padding: 0;\n",
              "    width: 32px;\n",
              "  }\n",
              "\n",
              "  .colab-df-quickchart:hover {\n",
              "    background-color: var(--hover-bg-color);\n",
              "    box-shadow: 0 1px 2px rgba(60, 64, 67, 0.3), 0 1px 3px 1px rgba(60, 64, 67, 0.15);\n",
              "    fill: var(--button-hover-fill-color);\n",
              "  }\n",
              "\n",
              "  .colab-df-quickchart-complete:disabled,\n",
              "  .colab-df-quickchart-complete:disabled:hover {\n",
              "    background-color: var(--disabled-bg-color);\n",
              "    fill: var(--disabled-fill-color);\n",
              "    box-shadow: none;\n",
              "  }\n",
              "\n",
              "  .colab-df-spinner {\n",
              "    border: 2px solid var(--fill-color);\n",
              "    border-color: transparent;\n",
              "    border-bottom-color: var(--fill-color);\n",
              "    animation:\n",
              "      spin 1s steps(1) infinite;\n",
              "  }\n",
              "\n",
              "  @keyframes spin {\n",
              "    0% {\n",
              "      border-color: transparent;\n",
              "      border-bottom-color: var(--fill-color);\n",
              "      border-left-color: var(--fill-color);\n",
              "    }\n",
              "    20% {\n",
              "      border-color: transparent;\n",
              "      border-left-color: var(--fill-color);\n",
              "      border-top-color: var(--fill-color);\n",
              "    }\n",
              "    30% {\n",
              "      border-color: transparent;\n",
              "      border-left-color: var(--fill-color);\n",
              "      border-top-color: var(--fill-color);\n",
              "      border-right-color: var(--fill-color);\n",
              "    }\n",
              "    40% {\n",
              "      border-color: transparent;\n",
              "      border-right-color: var(--fill-color);\n",
              "      border-top-color: var(--fill-color);\n",
              "    }\n",
              "    60% {\n",
              "      border-color: transparent;\n",
              "      border-right-color: var(--fill-color);\n",
              "    }\n",
              "    80% {\n",
              "      border-color: transparent;\n",
              "      border-right-color: var(--fill-color);\n",
              "      border-bottom-color: var(--fill-color);\n",
              "    }\n",
              "    90% {\n",
              "      border-color: transparent;\n",
              "      border-bottom-color: var(--fill-color);\n",
              "    }\n",
              "  }\n",
              "</style>\n",
              "\n",
              "  <script>\n",
              "    async function quickchart(key) {\n",
              "      const quickchartButtonEl =\n",
              "        document.querySelector('#' + key + ' button');\n",
              "      quickchartButtonEl.disabled = true;  // To prevent multiple clicks.\n",
              "      quickchartButtonEl.classList.add('colab-df-spinner');\n",
              "      try {\n",
              "        const charts = await google.colab.kernel.invokeFunction(\n",
              "            'suggestCharts', [key], {});\n",
              "      } catch (error) {\n",
              "        console.error('Error during call to suggestCharts:', error);\n",
              "      }\n",
              "      quickchartButtonEl.classList.remove('colab-df-spinner');\n",
              "      quickchartButtonEl.classList.add('colab-df-quickchart-complete');\n",
              "    }\n",
              "    (() => {\n",
              "      let quickchartButtonEl =\n",
              "        document.querySelector('#df-19ae7b58-5bd4-49a0-b09a-f43fd6080d8b button');\n",
              "      quickchartButtonEl.style.display =\n",
              "        google.colab.kernel.accessAllowed ? 'block' : 'none';\n",
              "    })();\n",
              "  </script>\n",
              "</div>\n",
              "    </div>\n",
              "  </div>\n"
            ]
          },
          "metadata": {},
          "execution_count": 17
        }
      ],
      "source": [
        "df.head()"
      ]
    },
    {
      "cell_type": "code",
      "execution_count": 18,
      "id": "c2db66d1",
      "metadata": {
        "colab": {
          "base_uri": "https://localhost:8080/"
        },
        "id": "c2db66d1",
        "outputId": "6649006c-472f-4a9b-8a8d-f2d38f2f6243"
      },
      "outputs": [
        {
          "output_type": "execute_result",
          "data": {
            "text/plain": [
              "Index(['URLs', 'Headline', 'Body', 'Label', 'News'], dtype='object')"
            ]
          },
          "metadata": {},
          "execution_count": 18
        }
      ],
      "source": [
        "df.columns"
      ]
    },
    {
      "cell_type": "code",
      "execution_count": 19,
      "id": "fec2d0de",
      "metadata": {
        "id": "fec2d0de"
      },
      "outputs": [],
      "source": [
        "features_dropped = ['URLs','Headline','Body']\n",
        "df = df.drop(features_dropped, axis =1)"
      ]
    },
    {
      "cell_type": "code",
      "execution_count": 20,
      "id": "4271728e",
      "metadata": {
        "id": "4271728e"
      },
      "outputs": [],
      "source": [
        "ps = PorterStemmer()\n",
        "def wordopt(text):\n",
        "    text = re.sub('[^a-zA-Z]', ' ',text)\n",
        "    text = text.lower()\n",
        "    text = text.split()\n",
        "    text = [ps.stem(word) for word in text if not word in stopwords.words('english')]\n",
        "    text = ' '.join(text)\n",
        "    return text"
      ]
    },
    {
      "cell_type": "code",
      "execution_count": 21,
      "id": "f38b57ad",
      "metadata": {
        "colab": {
          "base_uri": "https://localhost:8080/"
        },
        "id": "f38b57ad",
        "outputId": "e9fb6115-29f3-4ce1-8519-49ce332fe02c"
      },
      "outputs": [
        {
          "output_type": "stream",
          "name": "stderr",
          "text": [
            "[nltk_data] Downloading package stopwords to /root/nltk_data...\n",
            "[nltk_data]   Unzipping corpora/stopwords.zip.\n"
          ]
        },
        {
          "output_type": "execute_result",
          "data": {
            "text/plain": [
              "True"
            ]
          },
          "metadata": {},
          "execution_count": 21
        }
      ],
      "source": [
        "# from nltk.corpus import stopwords\n",
        "import nltk\n",
        "nltk.download('stopwords')"
      ]
    },
    {
      "cell_type": "code",
      "execution_count": 22,
      "id": "a7be3f76",
      "metadata": {
        "id": "a7be3f76"
      },
      "outputs": [],
      "source": [
        "df['News'] = df['News'].apply(wordopt) #Applying the text processing techniques onto every row data"
      ]
    },
    {
      "cell_type": "code",
      "execution_count": 23,
      "id": "2c818e86",
      "metadata": {
        "id": "2c818e86"
      },
      "outputs": [],
      "source": [
        "X = df['News']\n",
        "Y = df['Label']\n",
        "\n",
        "#Split the data into training and test set\n",
        "x_train, x_test, y_train, y_test = train_test_split(X, Y, test_size=0.25)"
      ]
    },
    {
      "cell_type": "code",
      "execution_count": 24,
      "id": "6fb48a8b",
      "metadata": {
        "id": "6fb48a8b"
      },
      "outputs": [],
      "source": [
        "#Vectorization\n",
        "vectorization = TfidfVectorizer()\n",
        "xv_train = vectorization.fit_transform(x_train)\n",
        "xv_test = vectorization.transform(x_test)"
      ]
    },
    {
      "cell_type": "code",
      "execution_count": 25,
      "id": "49930870",
      "metadata": {
        "colab": {
          "base_uri": "https://localhost:8080/"
        },
        "id": "49930870",
        "outputId": "0d67ccb2-3cd9-401b-80f7-3c890f7a50a2"
      },
      "outputs": [
        {
          "output_type": "stream",
          "name": "stdout",
          "text": [
            "Accuracy of LR model is  0.9890329012961117\n"
          ]
        }
      ],
      "source": [
        "#1. Logistic Regression - used because this model is best suited for binary classification\n",
        "LR_model = LogisticRegression()\n",
        "\n",
        "#Fitting training set to the model\n",
        "LR_model.fit(xv_train,y_train)\n",
        "\n",
        "#Predicting the test set results based on the model\n",
        "lr_y_pred = LR_model.predict(xv_test)\n",
        "\n",
        "#Calculate the accurracy of this model\n",
        "score = accuracy_score(y_test,lr_y_pred)\n",
        "print('Accuracy of LR model is ', score)"
      ]
    },
    {
      "cell_type": "code",
      "execution_count": 26,
      "id": "7f5d7236",
      "metadata": {
        "colab": {
          "base_uri": "https://localhost:8080/"
        },
        "id": "7f5d7236",
        "outputId": "4dd8c340-e126-4274-f02b-bb8ec4f6a024"
      },
      "outputs": [
        {
          "output_type": "stream",
          "name": "stdout",
          "text": [
            "Accuracy of SVM model is  0.9910269192422732\n",
            "F1 Score of SVM model is 0.9904963041182682\n",
            "Recall of SVM model is 0.9936440677966102\n"
          ]
        }
      ],
      "source": [
        "#2. Support Vector Machine(SVM) - SVM works relatively well when there is a clear margin of separation between classes.\n",
        "svm_model = SVC(kernel='linear')\n",
        "\n",
        "#Fitting training set to the model\n",
        "svm_model.fit(xv_train,y_train)\n",
        "\n",
        "#Predicting the test set results based on the model\n",
        "svm_y_pred = svm_model.predict(xv_test)\n",
        "\n",
        "#Calculate the accuracy score of this model\n",
        "score = accuracy_score(y_test,svm_y_pred)\n",
        "print('Accuracy of SVM model is ', score)\n",
        "from sklearn.metrics import f1_score, recall_score\n",
        "\n",
        "# Calculate F1-score\n",
        "f1 = f1_score(y_test, svm_y_pred)\n",
        "\n",
        "# Calculate Recall\n",
        "recall = recall_score(y_test, svm_y_pred)\n",
        "\n",
        "# Print the F1-score and Recall\n",
        "print('F1 Score of SVM model is', f1)\n",
        "print('Recall of SVM model is', recall)\n"
      ]
    },
    {
      "cell_type": "code",
      "execution_count": 27,
      "id": "5ae03285",
      "metadata": {
        "colab": {
          "base_uri": "https://localhost:8080/"
        },
        "id": "5ae03285",
        "outputId": "213eb02c-6907-467e-f90b-fc6790e64164"
      },
      "outputs": [
        {
          "output_type": "stream",
          "name": "stdout",
          "text": [
            "Accuracy of RFC model is  0.9780658025922233\n"
          ]
        }
      ],
      "source": [
        "#3. Random Forest Classifier\n",
        "RFC_model = RandomForestClassifier(random_state=0)\n",
        "\n",
        "#Fitting training set to the model\n",
        "RFC_model.fit(xv_train, y_train)\n",
        "\n",
        "#Predicting the test set results based on the model\n",
        "rfc_y_pred = RFC_model.predict(xv_test)\n",
        "\n",
        "#Calculate the accuracy score of this model\n",
        "score = accuracy_score(y_test,rfc_y_pred)\n",
        "print('Accuracy of RFC model is ', score)"
      ]
    },
    {
      "cell_type": "code",
      "source": [
        "# Implementing Long Short Term memory(LSTM)\n",
        "from tensorflow.keras.preprocessing.text import Tokenizer\n",
        "from tensorflow.keras.preprocessing.sequence import pad_sequences\n",
        "\n",
        "# Tokenize the text data\n",
        "tokenizer = Tokenizer()\n",
        "tokenizer.fit_on_texts(df['News'])\n",
        "total_words = len(tokenizer.word_index) + 1\n",
        "\n",
        "# Convert text to sequences\n",
        "input_sequences = tokenizer.texts_to_sequences(df['News'])\n",
        "input_sequences = pad_sequences(input_sequences)"
      ],
      "metadata": {
        "id": "KDdmJpx6F5Z7"
      },
      "id": "KDdmJpx6F5Z7",
      "execution_count": 29,
      "outputs": []
    },
    {
      "cell_type": "code",
      "source": [
        "x_train, x_test, y_train, y_test = train_test_split(input_sequences, Y, test_size=0.25)"
      ],
      "metadata": {
        "id": "OKRM7LoCF9bS"
      },
      "id": "OKRM7LoCF9bS",
      "execution_count": 30,
      "outputs": []
    },
    {
      "cell_type": "code",
      "source": [
        "from tensorflow.keras.models import Sequential\n",
        "from tensorflow.keras.layers import Embedding, LSTM, Dense\n",
        "\n",
        "lstm_model = Sequential()\n",
        "lstm_model.add(Embedding(total_words, 100, input_length=input_sequences.shape[1]))\n",
        "lstm_model.add(LSTM(100))\n",
        "lstm_model.add(Dense(1, activation='sigmoid'))\n",
        "lstm_model.compile(loss='binary_crossentropy', optimizer='adam', metrics=['accuracy'])\n",
        "\n",
        "lstm_model.fit(x_train, y_train, epochs=5, validation_data=(x_test, y_test))"
      ],
      "metadata": {
        "colab": {
          "base_uri": "https://localhost:8080/"
        },
        "id": "0AK3gFecFokn",
        "outputId": "c0552afd-09bb-44a3-d256-84bc47540dba"
      },
      "id": "0AK3gFecFokn",
      "execution_count": 31,
      "outputs": [
        {
          "output_type": "stream",
          "name": "stdout",
          "text": [
            "Epoch 1/5\n",
            "94/94 [==============================] - 36s 297ms/step - loss: 0.2899 - accuracy: 0.8686 - val_loss: 0.0681 - val_accuracy: 0.9781\n",
            "Epoch 2/5\n",
            "94/94 [==============================] - 26s 274ms/step - loss: 0.0281 - accuracy: 0.9917 - val_loss: 0.0508 - val_accuracy: 0.9860\n",
            "Epoch 3/5\n",
            "94/94 [==============================] - 23s 247ms/step - loss: 0.0062 - accuracy: 0.9993 - val_loss: 0.0302 - val_accuracy: 0.9910\n",
            "Epoch 4/5\n",
            "94/94 [==============================] - 23s 250ms/step - loss: 0.0012 - accuracy: 1.0000 - val_loss: 0.0354 - val_accuracy: 0.9920\n",
            "Epoch 5/5\n",
            "94/94 [==============================] - 23s 248ms/step - loss: 0.0019 - accuracy: 0.9997 - val_loss: 0.0312 - val_accuracy: 0.9900\n"
          ]
        },
        {
          "output_type": "execute_result",
          "data": {
            "text/plain": [
              "<keras.src.callbacks.History at 0x78cf3c115ea0>"
            ]
          },
          "metadata": {},
          "execution_count": 31
        }
      ]
    },
    {
      "cell_type": "code",
      "source": [
        "from sklearn.metrics import classification_report\n",
        "\n",
        "# Assuming y_test contains the true labels for your test set\n",
        "\n",
        "# Make predictions using the LSTM model\n",
        "y_pred_lstm = model.predict(x_test)\n",
        "y_pred_lstm = (y_pred_lstm > 0.5).astype(int)  # Convert probabilities to binary predictions\n",
        "\n",
        "# Print accuracy, recall, and F1-score\n",
        "scores = model.evaluate(x_test, y_test)\n",
        "print('LSTM Model Metrics:')\n",
        "print('Accuracy: %.2f%%' % (scores[1] * 100))\n",
        "\n",
        "# Generate a classification report\n",
        "classification_rep = classification_report(y_test, y_pred_lstm)\n",
        "print('Classification Report:')\n",
        "print(classification_rep)\n"
      ],
      "metadata": {
        "colab": {
          "base_uri": "https://localhost:8080/"
        },
        "id": "5FS1yi9QFuOp",
        "outputId": "24940bba-79c9-4fe3-8a3d-732b556526c7"
      },
      "id": "5FS1yi9QFuOp",
      "execution_count": 43,
      "outputs": [
        {
          "output_type": "stream",
          "name": "stdout",
          "text": [
            "32/32 [==============================] - 2s 38ms/step\n",
            "32/32 [==============================] - 1s 38ms/step - loss: 0.0312 - accuracy: 0.9900\n",
            "LSTM Model Metrics:\n",
            "Accuracy: 99.00%\n",
            "Classification Report:\n",
            "              precision    recall  f1-score   support\n",
            "\n",
            "           0       0.99      0.99      0.99       539\n",
            "           1       0.99      0.98      0.99       464\n",
            "\n",
            "    accuracy                           0.99      1003\n",
            "   macro avg       0.99      0.99      0.99      1003\n",
            "weighted avg       0.99      0.99      0.99      1003\n",
            "\n"
          ]
        }
      ]
    },
    {
      "cell_type": "code",
      "source": [
        "# Base Models\n",
        "lr_model = LogisticRegression()\n",
        "svm_model = SVC(kernel='linear', probability=True)\n",
        "rfc_model = RandomForestClassifier(random_state=0)\n",
        "\n",
        "# Ensemble Model - Voting Classifier\n",
        "from sklearn.ensemble import VotingClassifier\n",
        "voting_classifier = VotingClassifier(\n",
        "    estimators=[\n",
        "        ('lr', lr_model),\n",
        "        ('svm', svm_model),\n",
        "        ('rfc', rfc_model),\n",
        "    ],\n",
        "    voting='soft'  # Use 'soft' for probability voting\n",
        ")\n",
        "\n",
        "# Fit the ensemble model\n",
        "voting_classifier.fit(xv_train, y_train)\n",
        "\n",
        "# Predictions\n",
        "y_pred_ensemble = voting_classifier.predict(xv_test)\n",
        "\n",
        "# Evaluate accuracy\n",
        "accuracy_ensemble = accuracy_score(y_test, y_pred_ensemble)\n",
        "print(f'Ensemble Model Accuracy: {accuracy_ensemble * 100:.2f}%')\n"
      ],
      "metadata": {
        "colab": {
          "base_uri": "https://localhost:8080/"
        },
        "id": "oTkh4sVfGRIo",
        "outputId": "5d6b296b-bb4c-49c4-c9d7-75f9db26857e"
      },
      "id": "oTkh4sVfGRIo",
      "execution_count": 42,
      "outputs": [
        {
          "output_type": "stream",
          "name": "stdout",
          "text": [
            "Ensemble Model Accuracy: 51.45%\n"
          ]
        }
      ]
    },
    {
      "cell_type": "code",
      "execution_count": 47,
      "id": "3097faa1",
      "metadata": {
        "id": "3097faa1"
      },
      "outputs": [],
      "source": [
        "def fake_news_det(news):\n",
        "    input_data = {\"text\":[news]}\n",
        "    new_def_test = pd.DataFrame(input_data)\n",
        "    # new_def_test[\"text\"] = new_def_test[\"text\"].apply(wordopt)\n",
        "    new_x_test = new_def_test[\"text\"]\n",
        "    #print(new_x_test)\n",
        "    vectorized_input_data = vectorization.transform(new_x_test)\n",
        "    prediction = svm_model.predict(vectorized_input_data)\n",
        "\n",
        "    if prediction == 1:\n",
        "        print(\"Not a Fake News\")\n",
        "    else:\n",
        "        print(\"Fake News\")"
      ]
    },
    {
      "cell_type": "code",
      "execution_count": 48,
      "id": "90e4ee38",
      "metadata": {
        "colab": {
          "base_uri": "https://localhost:8080/",
          "height": 547
        },
        "id": "90e4ee38",
        "outputId": "de42689f-441e-4db2-b635-789fa3ad295f"
      },
      "outputs": [
        {
          "output_type": "error",
          "ename": "NotFittedError",
          "evalue": "ignored",
          "traceback": [
            "\u001b[0;31m---------------------------------------------------------------------------\u001b[0m",
            "\u001b[0;31mNotFittedError\u001b[0m                            Traceback (most recent call last)",
            "\u001b[0;32m<ipython-input-48-48df26e3cec6>\u001b[0m in \u001b[0;36m<cell line: 1>\u001b[0;34m()\u001b[0m\n\u001b[0;32m----> 1\u001b[0;31m fake_news_det(\"\"\"(Reuters) - The Weinstein Co has fired co-Chairman Harvey Weinstein, effective immediately, following reports of sexual harassment allegations against the executive, who was one of Hollywood’s biggest power brokers, the film production company said on Sunday.\n\u001b[0m\u001b[1;32m      2\u001b[0m \u001b[0mThe\u001b[0m \u001b[0mdeparture\u001b[0m \u001b[0mleaves\u001b[0m \u001b[0mWeinstein\u001b[0m\u001b[0;31m’\u001b[0m\u001b[0ms\u001b[0m \u001b[0mbrother\u001b[0m \u001b[0mBob\u001b[0m\u001b[0;34m,\u001b[0m \u001b[0ma\u001b[0m \u001b[0mco\u001b[0m\u001b[0;34m-\u001b[0m\u001b[0mchairman\u001b[0m\u001b[0;34m,\u001b[0m \u001b[0;32mand\u001b[0m \u001b[0mchief\u001b[0m \u001b[0moperating\u001b[0m \u001b[0mofficer\u001b[0m \u001b[0mDavid\u001b[0m \u001b[0mGlasser\u001b[0m \u001b[0mat\u001b[0m \u001b[0mthe\u001b[0m \u001b[0mhelm\u001b[0m \u001b[0mof\u001b[0m \u001b[0mthe\u001b[0m \u001b[0mcompany\u001b[0m\u001b[0;34m.\u001b[0m\u001b[0;34m\u001b[0m\u001b[0;34m\u001b[0m\u001b[0m\n\u001b[1;32m      3\u001b[0m \u001b[0mThe\u001b[0m \u001b[0mboard\u001b[0m \u001b[0mof\u001b[0m \u001b[0mdirectors\u001b[0m \u001b[0mmade\u001b[0m \u001b[0mthe\u001b[0m \u001b[0mdecision\u001b[0m\u001b[0;31m \u001b[0m\u001b[0;31m“\u001b[0m\u001b[0;32min\u001b[0m \u001b[0mlight\u001b[0m \u001b[0mof\u001b[0m \u001b[0mnew\u001b[0m \u001b[0minformation\u001b[0m \u001b[0mabout\u001b[0m \u001b[0mmisconduct\u001b[0m \u001b[0mby\u001b[0m \u001b[0mHarvey\u001b[0m \u001b[0mWeinstein\u001b[0m \u001b[0mthat\u001b[0m \u001b[0mhas\u001b[0m \u001b[0memerged\u001b[0m \u001b[0;32min\u001b[0m \u001b[0mthe\u001b[0m \u001b[0mpast\u001b[0m \u001b[0mfew\u001b[0m \u001b[0mdays\u001b[0m\u001b[0;34m,\u001b[0m\u001b[0;31m”\u001b[0m \u001b[0mthe\u001b[0m \u001b[0mcompany\u001b[0m \u001b[0msaid\u001b[0m \u001b[0;32min\u001b[0m \u001b[0man\u001b[0m \u001b[0memailed\u001b[0m \u001b[0mstatement\u001b[0m\u001b[0;34m,\u001b[0m \u001b[0madding\u001b[0m \u001b[0mthat\u001b[0m \u001b[0mhe\u001b[0m \u001b[0mhad\u001b[0m \u001b[0mbeen\u001b[0m \u001b[0mnotified\u001b[0m\u001b[0;34m.\u001b[0m\u001b[0;34m\u001b[0m\u001b[0;34m\u001b[0m\u001b[0m\n\u001b[1;32m      4\u001b[0m \u001b[0mA\u001b[0m \u001b[0mspokeswoman\u001b[0m \u001b[0;32mfor\u001b[0m \u001b[0mthe\u001b[0m \u001b[0mexecutive\u001b[0m \u001b[0mdid\u001b[0m \u001b[0;32mnot\u001b[0m \u001b[0mimmediately\u001b[0m \u001b[0mrespond\u001b[0m \u001b[0mto\u001b[0m \u001b[0ma\u001b[0m \u001b[0mrequest\u001b[0m \u001b[0;32mfor\u001b[0m \u001b[0mcomment\u001b[0m\u001b[0;34m.\u001b[0m\u001b[0;34m\u001b[0m\u001b[0;34m\u001b[0m\u001b[0m\n\u001b[1;32m      5\u001b[0m \u001b[0mThe\u001b[0m \u001b[0mcompany\u001b[0m \u001b[0msaid\u001b[0m \u001b[0mon\u001b[0m \u001b[0mFriday\u001b[0m \u001b[0mthat\u001b[0m \u001b[0mWeinstein\u001b[0m\u001b[0;34m,\u001b[0m \u001b[0;36m65\u001b[0m\u001b[0;34m,\u001b[0m \u001b[0mwas\u001b[0m \u001b[0mtaking\u001b[0m \u001b[0man\u001b[0m \u001b[0mindefinite\u001b[0m \u001b[0mleave\u001b[0m \u001b[0mof\u001b[0m \u001b[0mabsence\u001b[0m \u001b[0mafter\u001b[0m \u001b[0mthe\u001b[0m \u001b[0mNew\u001b[0m \u001b[0mYork\u001b[0m \u001b[0mTimes\u001b[0m \u001b[0mreported\u001b[0m \u001b[0mthat\u001b[0m \u001b[0mhe\u001b[0m \u001b[0mhad\u001b[0m \u001b[0mmade\u001b[0m \u001b[0meight\u001b[0m \u001b[0msettlements\u001b[0m \u001b[0;32mwith\u001b[0m \u001b[0mwomen\u001b[0m \u001b[0mwho\u001b[0m \u001b[0mhad\u001b[0m \u001b[0maccused\u001b[0m \u001b[0mhim\u001b[0m \u001b[0mof\u001b[0m \u001b[0munwanted\u001b[0m \u001b[0mphysical\u001b[0m \u001b[0mcontact\u001b[0m \u001b[0;32mand\u001b[0m \u001b[0msexual\u001b[0m \u001b[0mharassment\u001b[0m \u001b[0mover\u001b[0m \u001b[0mthree\u001b[0m \u001b[0mdecades\u001b[0m\u001b[0;34m.\u001b[0m\u001b[0;34m\u001b[0m\u001b[0;34m\u001b[0m\u001b[0m\n",
            "\u001b[0;32m<ipython-input-47-41eca14e719e>\u001b[0m in \u001b[0;36mfake_news_det\u001b[0;34m(news)\u001b[0m\n\u001b[1;32m      6\u001b[0m     \u001b[0;31m#print(new_x_test)\u001b[0m\u001b[0;34m\u001b[0m\u001b[0;34m\u001b[0m\u001b[0m\n\u001b[1;32m      7\u001b[0m     \u001b[0mvectorized_input_data\u001b[0m \u001b[0;34m=\u001b[0m \u001b[0mvectorization\u001b[0m\u001b[0;34m.\u001b[0m\u001b[0mtransform\u001b[0m\u001b[0;34m(\u001b[0m\u001b[0mnew_x_test\u001b[0m\u001b[0;34m)\u001b[0m\u001b[0;34m\u001b[0m\u001b[0;34m\u001b[0m\u001b[0m\n\u001b[0;32m----> 8\u001b[0;31m     \u001b[0mprediction\u001b[0m \u001b[0;34m=\u001b[0m \u001b[0msvm_model\u001b[0m\u001b[0;34m.\u001b[0m\u001b[0mpredict\u001b[0m\u001b[0;34m(\u001b[0m\u001b[0mvectorized_input_data\u001b[0m\u001b[0;34m)\u001b[0m\u001b[0;34m\u001b[0m\u001b[0;34m\u001b[0m\u001b[0m\n\u001b[0m\u001b[1;32m      9\u001b[0m \u001b[0;34m\u001b[0m\u001b[0m\n\u001b[1;32m     10\u001b[0m     \u001b[0;32mif\u001b[0m \u001b[0mprediction\u001b[0m \u001b[0;34m==\u001b[0m \u001b[0;36m1\u001b[0m\u001b[0;34m:\u001b[0m\u001b[0;34m\u001b[0m\u001b[0;34m\u001b[0m\u001b[0m\n",
            "\u001b[0;32m/usr/local/lib/python3.10/dist-packages/sklearn/svm/_base.py\u001b[0m in \u001b[0;36mpredict\u001b[0;34m(self, X)\u001b[0m\n\u001b[1;32m    805\u001b[0m             \u001b[0mClass\u001b[0m \u001b[0mlabels\u001b[0m \u001b[0;32mfor\u001b[0m \u001b[0msamples\u001b[0m \u001b[0;32min\u001b[0m \u001b[0mX\u001b[0m\u001b[0;34m.\u001b[0m\u001b[0;34m\u001b[0m\u001b[0;34m\u001b[0m\u001b[0m\n\u001b[1;32m    806\u001b[0m         \"\"\"\n\u001b[0;32m--> 807\u001b[0;31m         \u001b[0mcheck_is_fitted\u001b[0m\u001b[0;34m(\u001b[0m\u001b[0mself\u001b[0m\u001b[0;34m)\u001b[0m\u001b[0;34m\u001b[0m\u001b[0;34m\u001b[0m\u001b[0m\n\u001b[0m\u001b[1;32m    808\u001b[0m         \u001b[0;32mif\u001b[0m \u001b[0mself\u001b[0m\u001b[0;34m.\u001b[0m\u001b[0mbreak_ties\u001b[0m \u001b[0;32mand\u001b[0m \u001b[0mself\u001b[0m\u001b[0;34m.\u001b[0m\u001b[0mdecision_function_shape\u001b[0m \u001b[0;34m==\u001b[0m \u001b[0;34m\"ovo\"\u001b[0m\u001b[0;34m:\u001b[0m\u001b[0;34m\u001b[0m\u001b[0;34m\u001b[0m\u001b[0m\n\u001b[1;32m    809\u001b[0m             raise ValueError(\n",
            "\u001b[0;32m/usr/local/lib/python3.10/dist-packages/sklearn/utils/validation.py\u001b[0m in \u001b[0;36mcheck_is_fitted\u001b[0;34m(estimator, attributes, msg, all_or_any)\u001b[0m\n\u001b[1;32m   1388\u001b[0m \u001b[0;34m\u001b[0m\u001b[0m\n\u001b[1;32m   1389\u001b[0m     \u001b[0;32mif\u001b[0m \u001b[0;32mnot\u001b[0m \u001b[0mfitted\u001b[0m\u001b[0;34m:\u001b[0m\u001b[0;34m\u001b[0m\u001b[0;34m\u001b[0m\u001b[0m\n\u001b[0;32m-> 1390\u001b[0;31m         \u001b[0;32mraise\u001b[0m \u001b[0mNotFittedError\u001b[0m\u001b[0;34m(\u001b[0m\u001b[0mmsg\u001b[0m \u001b[0;34m%\u001b[0m \u001b[0;34m{\u001b[0m\u001b[0;34m\"name\"\u001b[0m\u001b[0;34m:\u001b[0m \u001b[0mtype\u001b[0m\u001b[0;34m(\u001b[0m\u001b[0mestimator\u001b[0m\u001b[0;34m)\u001b[0m\u001b[0;34m.\u001b[0m\u001b[0m__name__\u001b[0m\u001b[0;34m}\u001b[0m\u001b[0;34m)\u001b[0m\u001b[0;34m\u001b[0m\u001b[0;34m\u001b[0m\u001b[0m\n\u001b[0m\u001b[1;32m   1391\u001b[0m \u001b[0;34m\u001b[0m\u001b[0m\n\u001b[1;32m   1392\u001b[0m \u001b[0;34m\u001b[0m\u001b[0m\n",
            "\u001b[0;31mNotFittedError\u001b[0m: This SVC instance is not fitted yet. Call 'fit' with appropriate arguments before using this estimator."
          ]
        }
      ],
      "source": [
        "fake_news_det(\"\"\"(Reuters) - The Weinstein Co has fired co-Chairman Harvey Weinstein, effective immediately, following reports of sexual harassment allegations against the executive, who was one of Hollywood’s biggest power brokers, the film production company said on Sunday.\n",
        "The departure leaves Weinstein’s brother Bob, a co-chairman, and chief operating officer David Glasser at the helm of the company.\n",
        "The board of directors made the decision “in light of new information about misconduct by Harvey Weinstein that has emerged in the past few days,” the company said in an emailed statement, adding that he had been notified.\n",
        "A spokeswoman for the executive did not immediately respond to a request for comment.\n",
        "The company said on Friday that Weinstein, 65, was taking an indefinite leave of absence after the New York Times reported that he had made eight settlements with women who had accused him of unwanted physical contact and sexual harassment over three decades.\n",
        "Weinstein has produced or distributed Oscar-winning movies including “Shakespeare in Love” and “Chicago.” He was a prominent donor to Democrats during the 2016 general election campaign.\n",
        "The company also said it was conducting its own internal investigation.\n",
        "Reporting by Sangameswaran S in Bengaluru; Additional reporting and writing by Hilary Russ in New York; Editing by Richard Chang\"\"\")"
      ]
    },
    {
      "cell_type": "code",
      "execution_count": 49,
      "id": "1c2d27f5",
      "metadata": {
        "colab": {
          "base_uri": "https://localhost:8080/",
          "height": 582
        },
        "id": "1c2d27f5",
        "outputId": "b240b280-d7bc-471e-fc41-ce2151b08920"
      },
      "outputs": [
        {
          "output_type": "error",
          "ename": "NotFittedError",
          "evalue": "ignored",
          "traceback": [
            "\u001b[0;31m---------------------------------------------------------------------------\u001b[0m",
            "\u001b[0;31mNotFittedError\u001b[0m                            Traceback (most recent call last)",
            "\u001b[0;32m<ipython-input-49-fadfd8105dc2>\u001b[0m in \u001b[0;36m<cell line: 1>\u001b[0;34m()\u001b[0m\n\u001b[0;32m----> 1\u001b[0;31m \u001b[0mfake_news_det\u001b[0m\u001b[0;34m(\u001b[0m\u001b[0;34m\"WASHINGTON (Reuters) - The head of a conservative Republican faction in the U.S. Congress, who voted this month for a huge expansion of the national debt to pay for tax cuts, called himself a â€œfiscal conservativeâ€ on Sunday and urged budget restraint in 2018. In keeping with a sharp pivot under way among Republicans, U.S. Representative Mark Meadows, speaking on CBSâ€™ â€œFace the Nation,â€ drew a hard line on federal spending, which lawmakers are bracing to do battle over in January. When they return from the holidays on Wednesday, lawmakers will begin trying to pass a federal budget in a fight likely to be linked to other issues, such as immigration policy, even as the November congressional election campaigns approach in which Republicans will seek to keep control of Congress. President Donald Trump and his Republicans want a big budget increase in military spending, while Democrats also want proportional increases for non-defense â€œdiscretionaryâ€ spending on programs that support education, scientific research, infrastructure, public health and environmental protection. â€œThe (Trump) administration has already been willing to say: â€˜Weâ€™re going to increase non-defense discretionary spending ... by about 7 percent,â€™â€ Meadows, chairman of the small but influential House Freedom Caucus, said on the program. â€œNow, Democrats are saying thatâ€™s not enough, we need to give the government a pay r...\n\u001b[0m",
            "\u001b[0;32m<ipython-input-47-41eca14e719e>\u001b[0m in \u001b[0;36mfake_news_det\u001b[0;34m(news)\u001b[0m\n\u001b[1;32m      6\u001b[0m     \u001b[0;31m#print(new_x_test)\u001b[0m\u001b[0;34m\u001b[0m\u001b[0;34m\u001b[0m\u001b[0m\n\u001b[1;32m      7\u001b[0m     \u001b[0mvectorized_input_data\u001b[0m \u001b[0;34m=\u001b[0m \u001b[0mvectorization\u001b[0m\u001b[0;34m.\u001b[0m\u001b[0mtransform\u001b[0m\u001b[0;34m(\u001b[0m\u001b[0mnew_x_test\u001b[0m\u001b[0;34m)\u001b[0m\u001b[0;34m\u001b[0m\u001b[0;34m\u001b[0m\u001b[0m\n\u001b[0;32m----> 8\u001b[0;31m     \u001b[0mprediction\u001b[0m \u001b[0;34m=\u001b[0m \u001b[0msvm_model\u001b[0m\u001b[0;34m.\u001b[0m\u001b[0mpredict\u001b[0m\u001b[0;34m(\u001b[0m\u001b[0mvectorized_input_data\u001b[0m\u001b[0;34m)\u001b[0m\u001b[0;34m\u001b[0m\u001b[0;34m\u001b[0m\u001b[0m\n\u001b[0m\u001b[1;32m      9\u001b[0m \u001b[0;34m\u001b[0m\u001b[0m\n\u001b[1;32m     10\u001b[0m     \u001b[0;32mif\u001b[0m \u001b[0mprediction\u001b[0m \u001b[0;34m==\u001b[0m \u001b[0;36m1\u001b[0m\u001b[0;34m:\u001b[0m\u001b[0;34m\u001b[0m\u001b[0;34m\u001b[0m\u001b[0m\n",
            "\u001b[0;32m/usr/local/lib/python3.10/dist-packages/sklearn/svm/_base.py\u001b[0m in \u001b[0;36mpredict\u001b[0;34m(self, X)\u001b[0m\n\u001b[1;32m    805\u001b[0m             \u001b[0mClass\u001b[0m \u001b[0mlabels\u001b[0m \u001b[0;32mfor\u001b[0m \u001b[0msamples\u001b[0m \u001b[0;32min\u001b[0m \u001b[0mX\u001b[0m\u001b[0;34m.\u001b[0m\u001b[0;34m\u001b[0m\u001b[0;34m\u001b[0m\u001b[0m\n\u001b[1;32m    806\u001b[0m         \"\"\"\n\u001b[0;32m--> 807\u001b[0;31m         \u001b[0mcheck_is_fitted\u001b[0m\u001b[0;34m(\u001b[0m\u001b[0mself\u001b[0m\u001b[0;34m)\u001b[0m\u001b[0;34m\u001b[0m\u001b[0;34m\u001b[0m\u001b[0m\n\u001b[0m\u001b[1;32m    808\u001b[0m         \u001b[0;32mif\u001b[0m \u001b[0mself\u001b[0m\u001b[0;34m.\u001b[0m\u001b[0mbreak_ties\u001b[0m \u001b[0;32mand\u001b[0m \u001b[0mself\u001b[0m\u001b[0;34m.\u001b[0m\u001b[0mdecision_function_shape\u001b[0m \u001b[0;34m==\u001b[0m \u001b[0;34m\"ovo\"\u001b[0m\u001b[0;34m:\u001b[0m\u001b[0;34m\u001b[0m\u001b[0;34m\u001b[0m\u001b[0m\n\u001b[1;32m    809\u001b[0m             raise ValueError(\n",
            "\u001b[0;32m/usr/local/lib/python3.10/dist-packages/sklearn/utils/validation.py\u001b[0m in \u001b[0;36mcheck_is_fitted\u001b[0;34m(estimator, attributes, msg, all_or_any)\u001b[0m\n\u001b[1;32m   1388\u001b[0m \u001b[0;34m\u001b[0m\u001b[0m\n\u001b[1;32m   1389\u001b[0m     \u001b[0;32mif\u001b[0m \u001b[0;32mnot\u001b[0m \u001b[0mfitted\u001b[0m\u001b[0;34m:\u001b[0m\u001b[0;34m\u001b[0m\u001b[0;34m\u001b[0m\u001b[0m\n\u001b[0;32m-> 1390\u001b[0;31m         \u001b[0;32mraise\u001b[0m \u001b[0mNotFittedError\u001b[0m\u001b[0;34m(\u001b[0m\u001b[0mmsg\u001b[0m \u001b[0;34m%\u001b[0m \u001b[0;34m{\u001b[0m\u001b[0;34m\"name\"\u001b[0m\u001b[0;34m:\u001b[0m \u001b[0mtype\u001b[0m\u001b[0;34m(\u001b[0m\u001b[0mestimator\u001b[0m\u001b[0;34m)\u001b[0m\u001b[0;34m.\u001b[0m\u001b[0m__name__\u001b[0m\u001b[0;34m}\u001b[0m\u001b[0;34m)\u001b[0m\u001b[0;34m\u001b[0m\u001b[0;34m\u001b[0m\u001b[0m\n\u001b[0m\u001b[1;32m   1391\u001b[0m \u001b[0;34m\u001b[0m\u001b[0m\n\u001b[1;32m   1392\u001b[0m \u001b[0;34m\u001b[0m\u001b[0m\n",
            "\u001b[0;31mNotFittedError\u001b[0m: This SVC instance is not fitted yet. Call 'fit' with appropriate arguments before using this estimator."
          ]
        }
      ],
      "source": [
        "fake_news_det(\"WASHINGTON (Reuters) - The head of a conservative Republican faction in the U.S. Congress, who voted this month for a huge expansion of the national debt to pay for tax cuts, called himself a â€œfiscal conservativeâ€ on Sunday and urged budget restraint in 2018. In keeping with a sharp pivot under way among Republicans, U.S. Representative Mark Meadows, speaking on CBSâ€™ â€œFace the Nation,â€ drew a hard line on federal spending, which lawmakers are bracing to do battle over in January. When they return from the holidays on Wednesday, lawmakers will begin trying to pass a federal budget in a fight likely to be linked to other issues, such as immigration policy, even as the November congressional election campaigns approach in which Republicans will seek to keep control of Congress. President Donald Trump and his Republicans want a big budget increase in military spending, while Democrats also want proportional increases for non-defense â€œdiscretionaryâ€ spending on programs that support education, scientific research, infrastructure, public health and environmental protection. â€œThe (Trump) administration has already been willing to say: â€˜Weâ€™re going to increase non-defense discretionary spending ... by about 7 percent,â€™â€ Meadows, chairman of the small but influential House Freedom Caucus, said on the program. â€œNow, Democrats are saying thatâ€™s not enough, we need to give the government a pay raise of 10 to 11 percent. For a fiscal conservative, I donâ€™t see where the rationale is. ... Eventually you run out of other peopleâ€™s money,â€ he said. Meadows was among Republicans who voted in late December for their partyâ€™s debt-financed tax overhaul, which is expected to balloon the federal budget deficit and add about $1.5 trillion over 10 years to the $20 trillion national debt. â€œItâ€™s interesting to hear Mark talk about fiscal responsibility,â€ Democratic U.S. Representative Joseph Crowley said on CBS. Crowley said the Republican tax bill would require the  United States to borrow $1.5 trillion, to be paid off by future generations, to finance tax cuts for corporations and the rich. â€œThis is one of the least ... fiscally responsible bills weâ€™ve ever seen passed in the history of the House of Representatives. I think weâ€™re going to be paying for this for many, many years to come,â€ Crowley said. Republicans insist the tax package, the biggest U.S. tax overhaul in more than 30 years,  will boost the economy and job growth. House Speaker Paul Ryan, who also supported the tax bill, recently went further than Meadows, making clear in a radio interview that welfare or â€œentitlement reform,â€ as the party often calls it, would be a top Republican priority in 2018. In Republican parlance, â€œentitlementâ€ programs mean food stamps, housing assistance, Medicare and Medicaid health insurance for the elderly, poor and disabled, as well as other programs created by Washington to assist the needy. Democrats seized on Ryanâ€™s early December remarks, saying they showed Republicans would try to pay for their tax overhaul by seeking spending cuts for social programs. But the goals of House Republicans may have to take a back seat to the Senate, where the votes of some Democrats will be needed to approve a budget and prevent a government shutdown. Democrats will use their leverage in the Senate, which Republicans narrowly control, to defend both discretionary non-defense programs and social spending, while tackling the issue of the â€œDreamers,â€ people brought illegally to the country as children. Trump in September put a March 2018 expiration date on the Deferred Action for Childhood Arrivals, or DACA, program, which protects the young immigrants from deportation and provides them with work permits. The president has said in recent Twitter messages he wants funding for his proposed Mexican border wall and other immigration law changes in exchange for agreeing to help the Dreamers. Representative Debbie Dingell told CBS she did not favor linking that issue to other policy objectives, such as wall funding. â€œWe need to do DACA clean,â€ she said.  On Wednesday, Trump aides will meet with congressional leaders to discuss those issues. That will be followed by a weekend of strategy sessions for Trump and Republican leaders on Jan. 6 and 7, the White House said. Trump was also scheduled to meet on Sunday with Florida Republican Governor Rick Scott, who wants more emergency aid. The House has passed an $81 billion aid package after hurricanes in Florida, Texas and Puerto Rico, and wildfires in California. The package far exceeded the $44 billion requested by the Trump administration. The Senate has not yet voted on the aid\")"
      ]
    },
    {
      "cell_type": "code",
      "execution_count": 50,
      "id": "f86d059d",
      "metadata": {
        "id": "f86d059d"
      },
      "outputs": [],
      "source": [
        "def fake_news_det_lstm(news):\n",
        "    input_data = {\"text\":[news]}\n",
        "    new_def_test = pd.DataFrame(input_data)\n",
        "    new_x_test = new_def_test[\"text\"]\n",
        "\n",
        "    # Tokenize and pad the input sequence\n",
        "    input_sequence = tokenizer.texts_to_sequences(new_x_test)\n",
        "    input_sequence = pad_sequences(input_sequence, maxlen=input_sequences.shape[1])\n",
        "\n",
        "    # Predict using the LSTM model\n",
        "    prediction = model.predict(input_sequence)\n",
        "\n",
        "    if prediction > 0.5:\n",
        "        print(\"Not a Fake News\")\n",
        "    else:\n",
        "        print(\"Fake News\")\n"
      ]
    },
    {
      "cell_type": "code",
      "execution_count": 51,
      "id": "bfbc3858",
      "metadata": {
        "colab": {
          "base_uri": "https://localhost:8080/",
          "height": 772
        },
        "id": "bfbc3858",
        "outputId": "31e86a6f-5040-45f1-c899-b09b108ff085"
      },
      "outputs": [
        {
          "output_type": "error",
          "ename": "ValueError",
          "evalue": "ignored",
          "traceback": [
            "\u001b[0;31m---------------------------------------------------------------------------\u001b[0m",
            "\u001b[0;31mValueError\u001b[0m                                Traceback (most recent call last)",
            "\u001b[0;32m<ipython-input-51-2f60718dbf56>\u001b[0m in \u001b[0;36m<cell line: 18>\u001b[0;34m()\u001b[0m\n\u001b[1;32m     16\u001b[0m \u001b[0mAnd\u001b[0m \u001b[0;32mif\u001b[0m \u001b[0mthey\u001b[0m \u001b[0mhave\u001b[0m \u001b[0mlearned\u001b[0m \u001b[0manything\u001b[0m \u001b[0mon\u001b[0m \u001b[0mtheir\u001b[0m \u001b[0mlong\u001b[0m \u001b[0mqualifying\u001b[0m \u001b[0mroad\u001b[0m\u001b[0;31m \u001b[0m\u001b[0;31m—\u001b[0m \u001b[0mone\u001b[0m \u001b[0mthat\u001b[0m \u001b[0mbegan\u001b[0m \u001b[0;32mwith\u001b[0m \u001b[0mtwo\u001b[0m \u001b[0mhumbling\u001b[0m \u001b[0mlosses\u001b[0m \u001b[0;32mand\u001b[0m \u001b[0mthe\u001b[0m \u001b[0mfiring\u001b[0m \u001b[0mof\u001b[0m \u001b[0mtheir\u001b[0m \u001b[0mlast\u001b[0m \u001b[0mcoach\u001b[0m\u001b[0;34m,\u001b[0m \u001b[0mJurgen\u001b[0m \u001b[0mKlinsmann\u001b[0m\u001b[0;31m \u001b[0m\u001b[0;31m—\u001b[0m \u001b[0mit\u001b[0m \u001b[0;32mis\u001b[0m \u001b[0mthat\u001b[0m \u001b[0mnothing\u001b[0m \u001b[0;32mis\u001b[0m \u001b[0mcertain\u001b[0m\u001b[0;34m,\u001b[0m \u001b[0;32mand\u001b[0m \u001b[0mthat\u001b[0m \u001b[0meven\u001b[0m \u001b[0ma\u001b[0m \u001b[0mcountry\u001b[0m \u001b[0maccustomed\u001b[0m \u001b[0mto\u001b[0m \u001b[0ma\u001b[0m \u001b[0mquadrennial\u001b[0m \u001b[0mWorld\u001b[0m \u001b[0mCup\u001b[0m \u001b[0mtrip\u001b[0m \u001b[0mhas\u001b[0m \u001b[0mto\u001b[0m \u001b[0mearn\u001b[0m \u001b[0mits\u001b[0m \u001b[0mplace\u001b[0m \u001b[0mon\u001b[0m \u001b[0mthe\u001b[0m \u001b[0mfield\u001b[0m \u001b[0mbefore\u001b[0m \u001b[0mit\u001b[0m \u001b[0mcan\u001b[0m \u001b[0mpack\u001b[0m \u001b[0mits\u001b[0m \u001b[0mbags\u001b[0m\u001b[0;34m.\u001b[0m\u001b[0;34m\u001b[0m\u001b[0;34m\u001b[0m\u001b[0m\n\u001b[1;32m     17\u001b[0m “The job is half-done,” defender Matt Besler said. “Now we have to go down there and do the rest.\"\"\"\n\u001b[0;32m---> 18\u001b[0;31m \u001b[0mfake_news_det_lstm\u001b[0m\u001b[0;34m(\u001b[0m\u001b[0mnews_content\u001b[0m\u001b[0;34m)\u001b[0m\u001b[0;34m\u001b[0m\u001b[0;34m\u001b[0m\u001b[0m\n\u001b[0m",
            "\u001b[0;32m<ipython-input-50-88be61e20d71>\u001b[0m in \u001b[0;36mfake_news_det_lstm\u001b[0;34m(news)\u001b[0m\n\u001b[1;32m      9\u001b[0m \u001b[0;34m\u001b[0m\u001b[0m\n\u001b[1;32m     10\u001b[0m     \u001b[0;31m# Predict using the LSTM model\u001b[0m\u001b[0;34m\u001b[0m\u001b[0;34m\u001b[0m\u001b[0m\n\u001b[0;32m---> 11\u001b[0;31m     \u001b[0mprediction\u001b[0m \u001b[0;34m=\u001b[0m \u001b[0mmodel\u001b[0m\u001b[0;34m.\u001b[0m\u001b[0mpredict\u001b[0m\u001b[0;34m(\u001b[0m\u001b[0minput_sequence\u001b[0m\u001b[0;34m)\u001b[0m\u001b[0;34m\u001b[0m\u001b[0;34m\u001b[0m\u001b[0m\n\u001b[0m\u001b[1;32m     12\u001b[0m \u001b[0;34m\u001b[0m\u001b[0m\n\u001b[1;32m     13\u001b[0m     \u001b[0;32mif\u001b[0m \u001b[0mprediction\u001b[0m \u001b[0;34m>\u001b[0m \u001b[0;36m0.5\u001b[0m\u001b[0;34m:\u001b[0m\u001b[0;34m\u001b[0m\u001b[0;34m\u001b[0m\u001b[0m\n",
            "\u001b[0;32m/usr/local/lib/python3.10/dist-packages/keras/src/utils/traceback_utils.py\u001b[0m in \u001b[0;36merror_handler\u001b[0;34m(*args, **kwargs)\u001b[0m\n\u001b[1;32m     68\u001b[0m             \u001b[0;31m# To get the full stack trace, call:\u001b[0m\u001b[0;34m\u001b[0m\u001b[0;34m\u001b[0m\u001b[0m\n\u001b[1;32m     69\u001b[0m             \u001b[0;31m# `tf.debugging.disable_traceback_filtering()`\u001b[0m\u001b[0;34m\u001b[0m\u001b[0;34m\u001b[0m\u001b[0m\n\u001b[0;32m---> 70\u001b[0;31m             \u001b[0;32mraise\u001b[0m \u001b[0me\u001b[0m\u001b[0;34m.\u001b[0m\u001b[0mwith_traceback\u001b[0m\u001b[0;34m(\u001b[0m\u001b[0mfiltered_tb\u001b[0m\u001b[0;34m)\u001b[0m \u001b[0;32mfrom\u001b[0m \u001b[0;32mNone\u001b[0m\u001b[0;34m\u001b[0m\u001b[0;34m\u001b[0m\u001b[0m\n\u001b[0m\u001b[1;32m     71\u001b[0m         \u001b[0;32mfinally\u001b[0m\u001b[0;34m:\u001b[0m\u001b[0;34m\u001b[0m\u001b[0;34m\u001b[0m\u001b[0m\n\u001b[1;32m     72\u001b[0m             \u001b[0;32mdel\u001b[0m \u001b[0mfiltered_tb\u001b[0m\u001b[0;34m\u001b[0m\u001b[0;34m\u001b[0m\u001b[0m\n",
            "\u001b[0;32m/usr/local/lib/python3.10/dist-packages/keras/src/engine/training.py\u001b[0m in \u001b[0;36mtf__predict_function\u001b[0;34m(iterator)\u001b[0m\n\u001b[1;32m     13\u001b[0m                 \u001b[0;32mtry\u001b[0m\u001b[0;34m:\u001b[0m\u001b[0;34m\u001b[0m\u001b[0;34m\u001b[0m\u001b[0m\n\u001b[1;32m     14\u001b[0m                     \u001b[0mdo_return\u001b[0m \u001b[0;34m=\u001b[0m \u001b[0;32mTrue\u001b[0m\u001b[0;34m\u001b[0m\u001b[0;34m\u001b[0m\u001b[0m\n\u001b[0;32m---> 15\u001b[0;31m                     \u001b[0mretval_\u001b[0m \u001b[0;34m=\u001b[0m \u001b[0mag__\u001b[0m\u001b[0;34m.\u001b[0m\u001b[0mconverted_call\u001b[0m\u001b[0;34m(\u001b[0m\u001b[0mag__\u001b[0m\u001b[0;34m.\u001b[0m\u001b[0mld\u001b[0m\u001b[0;34m(\u001b[0m\u001b[0mstep_function\u001b[0m\u001b[0;34m)\u001b[0m\u001b[0;34m,\u001b[0m \u001b[0;34m(\u001b[0m\u001b[0mag__\u001b[0m\u001b[0;34m.\u001b[0m\u001b[0mld\u001b[0m\u001b[0;34m(\u001b[0m\u001b[0mself\u001b[0m\u001b[0;34m)\u001b[0m\u001b[0;34m,\u001b[0m \u001b[0mag__\u001b[0m\u001b[0;34m.\u001b[0m\u001b[0mld\u001b[0m\u001b[0;34m(\u001b[0m\u001b[0miterator\u001b[0m\u001b[0;34m)\u001b[0m\u001b[0;34m)\u001b[0m\u001b[0;34m,\u001b[0m \u001b[0;32mNone\u001b[0m\u001b[0;34m,\u001b[0m \u001b[0mfscope\u001b[0m\u001b[0;34m)\u001b[0m\u001b[0;34m\u001b[0m\u001b[0;34m\u001b[0m\u001b[0m\n\u001b[0m\u001b[1;32m     16\u001b[0m                 \u001b[0;32mexcept\u001b[0m\u001b[0;34m:\u001b[0m\u001b[0;34m\u001b[0m\u001b[0;34m\u001b[0m\u001b[0m\n\u001b[1;32m     17\u001b[0m                     \u001b[0mdo_return\u001b[0m \u001b[0;34m=\u001b[0m \u001b[0;32mFalse\u001b[0m\u001b[0;34m\u001b[0m\u001b[0;34m\u001b[0m\u001b[0m\n",
            "\u001b[0;31mValueError\u001b[0m: in user code:\n\n    File \"/usr/local/lib/python3.10/dist-packages/keras/src/engine/training.py\", line 2416, in predict_function  *\n        return step_function(self, iterator)\n    File \"/usr/local/lib/python3.10/dist-packages/keras/src/engine/training.py\", line 2401, in step_function  **\n        outputs = model.distribute_strategy.run(run_step, args=(data,))\n    File \"/usr/local/lib/python3.10/dist-packages/keras/src/engine/training.py\", line 2389, in run_step  **\n        outputs = model.predict_step(data)\n    File \"/usr/local/lib/python3.10/dist-packages/keras/src/engine/training.py\", line 2357, in predict_step\n        return self(x, training=False)\n    File \"/usr/local/lib/python3.10/dist-packages/keras/src/utils/traceback_utils.py\", line 70, in error_handler\n        raise e.with_traceback(filtered_tb) from None\n    File \"/usr/local/lib/python3.10/dist-packages/keras/src/engine/input_spec.py\", line 298, in assert_input_compatibility\n        raise ValueError(\n\n    ValueError: Input 0 of layer \"sequential_3\" is incompatible with the layer: expected shape=(None, 29406), found shape=(None, 3171)\n"
          ]
        }
      ],
      "source": [
        "news_content = \"\"\"When Pulisic tore open the left side of the Panama defense 11 minutes later, slotting a cross that Altidore simply poked into the net, the game — 19 minutes old — seemed over. The cherry on top — an Altidore penalty kick, on a nervy chip after Bobby Wood had been cut down on a run into the area in the 42nd minute — erased all doubt.\n",
        "The day had been saved.\n",
        "After Wood added a fourth in the 63rd minute, the worries, the fears of the past few days, and the past few months, were gone. It had gone so well, in fact, that United States Coach Bruce Arena could even feign the tiniest bit of disappointment afterward.\n",
        "“On the night, we actually didn’t finish well,” he said. “We could have scored a lot more goals.”\n",
        "Panama Coach Hernán Darío Gómez would hardly disagree. “They could have had 10 goals,” he said in declaring the Americans “immensely superior” in every way in the match, and his team’s play as “muy, muy mal” — very, very bad.\n",
        "The only concern of the Americans afterward, then, was for Pulisic, who was battered several times and then, finally, so badly that he required treatment after a particularly rough foul at midfield just after halftime.\n",
        "Newsletter Sign Up Continue reading the main story Please verify you're not a robot by clicking the box. Invalid email address. Please re-enter. You must select a newsletter to subscribe to. Sign Up You agree to receive occasional updates and special offers for The New York Times's products and services. Thank you for subscribing. An error has occurred. Please try again later. View all New York Times newsletters.\n",
        "Arena, realizing Pulisic’s unique value, and the fact that he may need a similar performance to close the deal on Tuesday, had seen enough. He substituted for Pulisic a few minutes later.\n",
        "“He took a few shots,” Arena said. “And so we thought it was smart to get him off the field.”\n",
        "Pulisic acknowledged the beating, a fact of his life that has become common in games against Concacaf opposition, and shrugged it off. “I got kicked a few times, but I’ll be fine,” he said.\n",
        "Advertisement Continue reading the main story\n",
        "That may or may not be the case. After answering about a dozen questions from reporters, he slipped away while teammates took their turns with the news media. Moments later, far away from the scrum, Pulisic was limping noticeably.\n",
        "He had done enough, though, to nearly push his team over the qualifying line.\n",
        "The decisive 90 minutes will come on Tuesday, when the United States faces Trinidad and Tobago on the road. The Soca Warriors sit last in the group, their hopes long dashed and their pride potentially bruised depending on the result of a game at the group leader Mexico later Friday night. They would seem to have little motivation at this point other than to play spoiler.\n",
        "That can be an attractive bit of motivation for small Concacaf teams, however, especially when there is a chance to ding the mighty United States. The Americans know that, and they know the stakes.\n",
        "And if they have learned anything on their long qualifying road — one that began with two humbling losses and the firing of their last coach, Jurgen Klinsmann — it is that nothing is certain, and that even a country accustomed to a quadrennial World Cup trip has to earn its place on the field before it can pack its bags.\n",
        "“The job is half-done,” defender Matt Besler said. “Now we have to go down there and do the rest.\"\"\"\n",
        "fake_news_det_lstm(news_content)"
      ]
    },
    {
      "cell_type": "code",
      "source": [],
      "metadata": {
        "id": "sRjnLeojQtlN"
      },
      "id": "sRjnLeojQtlN",
      "execution_count": null,
      "outputs": []
    }
  ],
  "metadata": {
    "kernelspec": {
      "display_name": "Python 3",
      "name": "python3"
    },
    "language_info": {
      "codemirror_mode": {
        "name": "ipython",
        "version": 3
      },
      "file_extension": ".py",
      "mimetype": "text/x-python",
      "name": "python",
      "nbconvert_exporter": "python",
      "pygments_lexer": "ipython3",
      "version": "3.9.12"
    },
    "colab": {
      "provenance": [],
      "gpuType": "T4"
    },
    "accelerator": "GPU"
  },
  "nbformat": 4,
  "nbformat_minor": 5
}